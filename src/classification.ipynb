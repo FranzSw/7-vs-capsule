{
 "cells": [
  {
   "attachments": {},
   "cell_type": "markdown",
   "metadata": {},
   "source": [
    "# Classification\n",
    "In this notebook we classify the CT/PET scans of lung cancer cases by tumor type. \n",
    "We are doing this as a baseline task to validate our data loading pipeline.\n",
    "Most code is taken from [this tutorial](https://pytorch.org/tutorials/beginner/transfer_learning_tutorial.html)"
   ]
  },
  {
   "cell_type": "code",
   "execution_count": 1,
   "metadata": {},
   "outputs": [
    {
     "data": {
      "text/plain": [
       "'pynvml module not found, please install pynvml'"
      ]
     },
     "execution_count": 1,
     "metadata": {},
     "output_type": "execute_result"
    }
   ],
   "source": [
    "import torch\n",
    "import torch.nn as nn\n",
    "import torch.optim as optim\n",
    "from torch.optim import lr_scheduler\n",
    "import torch.backends.cudnn as cudnn\n",
    "from torch.utils.data import random_split\n",
    "import numpy as np\n",
    "import torchvision\n",
    "from torchvision import datasets, models, transforms\n",
    "import matplotlib.pyplot as plt\n",
    "import time\n",
    "import os\n",
    "import copy\n",
    "from nscl_dataset import NSCLDataSet\n",
    "\n",
    "cudnn.benchmark = True\n",
    "device = torch.device(\"cuda:0\" if torch.cuda.is_available() else \"cpu\")\n",
    "\n",
    "torch.cuda.list_gpu_processes()"
   ]
  },
  {
   "cell_type": "code",
   "execution_count": 3,
   "metadata": {},
   "outputs": [],
   "source": [
    "ds = NSCLDataSet()"
   ]
  },
  {
   "cell_type": "code",
   "execution_count": 13,
   "metadata": {},
   "outputs": [
    {
     "data": {
      "text/plain": [
       "torch.Size([3, 512, 512])"
      ]
     },
     "execution_count": 13,
     "metadata": {},
     "output_type": "execute_result"
    }
   ],
   "source": [
    "next(iter(ds))[0].shape"
   ]
  },
  {
   "attachments": {},
   "cell_type": "markdown",
   "metadata": {},
   "source": [
    "# Defining datasets (train/validation) "
   ]
  },
  {
   "cell_type": "code",
   "execution_count": 9,
   "metadata": {},
   "outputs": [],
   "source": [
    "def test(x):\n",
    "    # print(x.shape)\n",
    "    return x\n",
    "\n",
    "preprocess = transforms.Compose([\n",
    "    test,\n",
    "    transforms.ToPILImage(),\n",
    "    transforms.Resize(256),\n",
    "    transforms.CenterCrop(224),\n",
    "    transforms.ToTensor(),\n",
    "    transforms.Normalize(mean=[0.485, 0.456, 0.406], std=[0.229, 0.224, 0.225]),\n",
    "])\n",
    "\n",
    "trainSet, valSet = random_split(NSCLDataSet(transform=preprocess), [0.8, 0.2])\n",
    "dataloaders = {\n",
    "    \"train\": torch.utils.data.DataLoader(trainSet, batch_size=4, shuffle=True, num_workers=4),\n",
    "    \"val\": torch.utils.data.DataLoader(valSet, batch_size=4, shuffle=True, num_workers=4)\n",
    "}\n",
    "\n",
    "class_names = [\"Adenocarcinoma\", \"Small Cell Carcinoma\", \"Large Cell Carcinoma\", \"Squamous Cell Carcinoma\"]\n",
    "\n",
    "dataset_sizes = {\"train\": len(trainSet),\"val\": len(valSet)}"
   ]
  },
  {
   "attachments": {},
   "cell_type": "markdown",
   "metadata": {},
   "source": [
    "# Defining model "
   ]
  },
  {
   "cell_type": "code",
   "execution_count": 10,
   "metadata": {},
   "outputs": [
    {
     "name": "stderr",
     "output_type": "stream",
     "text": [
      "Using cache found in /dhc/home/franz.sauerwald/.cache/torch/hub/pytorch_vision_v0.10.0\n",
      "/dhc/home/franz.sauerwald/conda3/envs/advanced-ml/lib/python3.10/site-packages/torchvision/models/_utils.py:208: UserWarning: The parameter 'pretrained' is deprecated since 0.13 and may be removed in the future, please use 'weights' instead.\n",
      "  warnings.warn(\n",
      "/dhc/home/franz.sauerwald/conda3/envs/advanced-ml/lib/python3.10/site-packages/torchvision/models/_utils.py:223: UserWarning: Arguments other than a weight enum or `None` for 'weights' are deprecated since 0.13 and may be removed in the future. The current behavior is equivalent to passing `weights=ResNet18_Weights.IMAGENET1K_V1`. You can also use `weights=ResNet18_Weights.DEFAULT` to get the most up-to-date weights.\n",
      "  warnings.warn(msg)\n"
     ]
    }
   ],
   "source": [
    "\n",
    "resnet = torch.hub.load('pytorch/vision:v0.10.0', 'resnet18', pretrained=True)\n",
    "# freeze all layers but last\n",
    "for param in resnet.parameters():\n",
    "    param.requires_grad = False\n",
    "\n",
    "num_ftrs = resnet.fc.in_features\n",
    "resnet.fc = nn.Linear(num_ftrs, len(class_names))"
   ]
  },
  {
   "attachments": {},
   "cell_type": "markdown",
   "metadata": {},
   "source": [
    "# Setup training"
   ]
  },
  {
   "cell_type": "code",
   "execution_count": 16,
   "metadata": {},
   "outputs": [],
   "source": [
    "def train_model(model, criterion, optimizer, scheduler, num_epochs=25):\n",
    "    since = time.time()\n",
    "\n",
    "    best_model_wts = copy.deepcopy(model.state_dict())\n",
    "    best_acc = 0.0\n",
    "\n",
    "    for epoch in range(num_epochs):\n",
    "        print(f'Epoch {epoch}/{num_epochs - 1}')\n",
    "        print('-' * 10)\n",
    "\n",
    "        # Each epoch has a training and validation phase\n",
    "        for phase in ['train', 'val']:\n",
    "            if phase == 'train':\n",
    "                model.train()  # Set model to training mode\n",
    "            else:\n",
    "                model.eval()   # Set model to evaluate mode\n",
    "\n",
    "            running_loss = 0.0\n",
    "            running_corrects = 0\n",
    "\n",
    "            # Iterate over data.\n",
    "            for idx, (inputs, labels) in enumerate(dataloaders[phase]):\n",
    "                if idx % 50 == 0:\n",
    "                    print(f\"Batch {idx}/{len(dataloaders[phase])}\")\n",
    "                inputs = inputs.to(device)\n",
    "                labels = labels.to(device)\n",
    "\n",
    "                # zero the parameter gradients\n",
    "                optimizer.zero_grad()\n",
    "\n",
    "                # forward\n",
    "                # track history if only in train\n",
    "                with torch.set_grad_enabled(phase == 'train'):\n",
    "                    outputs = model(inputs)\n",
    "                    _, preds = torch.max(outputs, 1)\n",
    "                    loss = criterion(outputs, labels)\n",
    "\n",
    "                    # backward + optimize only if in training phase\n",
    "                    if phase == 'train':\n",
    "                        loss.backward()\n",
    "                        optimizer.step()\n",
    "\n",
    "                # statistics\n",
    "                running_loss += loss.item() * inputs.size(0)\n",
    "                running_corrects += torch.sum(preds == labels.data)\n",
    "            if phase == 'train':\n",
    "                scheduler.step()\n",
    "\n",
    "            epoch_loss = running_loss / dataset_sizes[phase]\n",
    "            epoch_acc = running_corrects.double() / dataset_sizes[phase]\n",
    "\n",
    "            print(f'{phase} Loss: {epoch_loss:.4f} Acc: {epoch_acc:.4f}')\n",
    "\n",
    "            # deep copy the model\n",
    "            if phase == 'val' and epoch_acc > best_acc:\n",
    "                best_acc = epoch_acc\n",
    "                best_model_wts = copy.deepcopy(model.state_dict())\n",
    "\n",
    "        print()\n",
    "\n",
    "    time_elapsed = time.time() - since\n",
    "    print(f'Training complete in {time_elapsed // 60:.0f}m {time_elapsed % 60:.0f}s')\n",
    "    print(f'Best val Acc: {best_acc:4f}')\n",
    "\n",
    "    # load best model weights\n",
    "    model.load_state_dict(best_model_wts)\n",
    "    return model"
   ]
  },
  {
   "attachments": {},
   "cell_type": "markdown",
   "metadata": {},
   "source": [
    "# Define training parameters"
   ]
  },
  {
   "cell_type": "code",
   "execution_count": 12,
   "metadata": {},
   "outputs": [],
   "source": [
    "criterion = nn.CrossEntropyLoss()\n",
    "\n",
    "# Observe that all parameters are being optimized\n",
    "optimizer_ft = optim.SGD(resnet.parameters(), lr=0.001, momentum=0.9)\n",
    "\n",
    "# Decay LR by a factor of 0.1 every 7 epochs\n",
    "exp_lr_scheduler = lr_scheduler.StepLR(optimizer_ft, step_size=7, gamma=0.1)"
   ]
  },
  {
   "attachments": {},
   "cell_type": "markdown",
   "metadata": {},
   "source": [
    "# Run training"
   ]
  },
  {
   "cell_type": "code",
   "execution_count": 17,
   "metadata": {},
   "outputs": [
    {
     "name": "stdout",
     "output_type": "stream",
     "text": [
      "Epoch 0/24\n",
      "----------\n",
      "Batch 0/6077\n",
      "Batch 50/6077\n",
      "Batch 100/6077\n",
      "Batch 150/6077\n",
      "Batch 200/6077\n",
      "Batch 250/6077\n",
      "Batch 300/6077\n",
      "Batch 350/6077\n",
      "Batch 400/6077\n",
      "Batch 450/6077\n",
      "Batch 500/6077\n",
      "Batch 550/6077\n",
      "Batch 600/6077\n",
      "Batch 650/6077\n",
      "Batch 700/6077\n",
      "Batch 750/6077\n",
      "Batch 800/6077\n",
      "Batch 850/6077\n",
      "Batch 900/6077\n",
      "Batch 950/6077\n",
      "Batch 1000/6077\n",
      "Batch 1050/6077\n",
      "Batch 1100/6077\n",
      "Batch 1150/6077\n",
      "Batch 1200/6077\n",
      "Batch 1250/6077\n",
      "Batch 1300/6077\n",
      "Batch 1350/6077\n",
      "Batch 1400/6077\n",
      "Batch 1450/6077\n",
      "Batch 1500/6077\n",
      "Batch 1550/6077\n",
      "Batch 1600/6077\n",
      "Batch 1650/6077\n",
      "Batch 1700/6077\n",
      "Batch 1750/6077\n",
      "Batch 1800/6077\n",
      "Batch 1850/6077\n",
      "Batch 1900/6077\n",
      "Batch 1950/6077\n",
      "Batch 2000/6077\n",
      "Batch 2050/6077\n",
      "Batch 2100/6077\n",
      "Batch 2150/6077\n",
      "Batch 2200/6077\n",
      "Batch 2250/6077\n",
      "Batch 2300/6077\n",
      "Batch 2350/6077\n",
      "Batch 2400/6077\n",
      "Batch 2450/6077\n",
      "Batch 2500/6077\n",
      "Batch 2550/6077\n",
      "Batch 2600/6077\n",
      "Batch 2650/6077\n",
      "Batch 2700/6077\n",
      "Batch 2750/6077\n",
      "Batch 2800/6077\n",
      "Batch 2850/6077\n",
      "Batch 2900/6077\n",
      "Batch 2950/6077\n",
      "Batch 3000/6077\n",
      "Batch 3050/6077\n",
      "Batch 3100/6077\n",
      "Batch 3150/6077\n",
      "Batch 3200/6077\n",
      "Batch 3250/6077\n",
      "Batch 3300/6077\n",
      "Batch 3350/6077\n",
      "Batch 3400/6077\n",
      "Batch 3450/6077\n",
      "Batch 3500/6077\n",
      "Batch 3550/6077\n",
      "Batch 3600/6077\n",
      "Batch 3650/6077\n",
      "Batch 3700/6077\n",
      "Batch 3750/6077\n",
      "Batch 3800/6077\n",
      "Batch 3850/6077\n",
      "Batch 3900/6077\n",
      "Batch 3950/6077\n",
      "Batch 4000/6077\n",
      "Batch 4050/6077\n",
      "Batch 4100/6077\n",
      "Batch 4150/6077\n",
      "Batch 4200/6077\n",
      "Batch 4250/6077\n",
      "Batch 4300/6077\n",
      "Batch 4350/6077\n",
      "Batch 4400/6077\n",
      "Batch 4450/6077\n",
      "Batch 4500/6077\n",
      "Batch 4550/6077\n",
      "Batch 4600/6077\n",
      "Batch 4650/6077\n",
      "Batch 4700/6077\n",
      "Batch 4750/6077\n",
      "Batch 4800/6077\n",
      "Batch 4850/6077\n",
      "Batch 4900/6077\n",
      "Batch 4950/6077\n",
      "Batch 5000/6077\n",
      "Batch 5050/6077\n",
      "Batch 5100/6077\n",
      "Batch 5150/6077\n",
      "Batch 5200/6077\n",
      "Batch 5250/6077\n",
      "Batch 5300/6077\n",
      "Batch 5350/6077\n",
      "Batch 5400/6077\n",
      "Batch 5450/6077\n",
      "Batch 5500/6077\n",
      "Batch 5550/6077\n",
      "Batch 5600/6077\n",
      "Batch 5650/6077\n",
      "Batch 5700/6077\n",
      "Batch 5750/6077\n",
      "Batch 5800/6077\n",
      "Batch 5850/6077\n",
      "Batch 5900/6077\n",
      "Batch 5950/6077\n",
      "Batch 6000/6077\n",
      "Batch 6050/6077\n"
     ]
    },
    {
     "ename": "RuntimeError",
     "evalue": "The size of tensor a (2) must match the size of tensor b (4) at non-singleton dimension 1",
     "output_type": "error",
     "traceback": [
      "\u001b[0;31m---------------------------------------------------------------------------\u001b[0m",
      "\u001b[0;31mRuntimeError\u001b[0m                              Traceback (most recent call last)",
      "Cell \u001b[0;32mIn[17], line 1\u001b[0m\n\u001b[0;32m----> 1\u001b[0m resnet \u001b[39m=\u001b[39m train_model(resnet, criterion, optimizer_ft, exp_lr_scheduler,\n\u001b[1;32m      2\u001b[0m                        num_epochs\u001b[39m=\u001b[39;49m\u001b[39m25\u001b[39;49m)\n",
      "Cell \u001b[0;32mIn[16], line 45\u001b[0m, in \u001b[0;36mtrain_model\u001b[0;34m(model, criterion, optimizer, scheduler, num_epochs)\u001b[0m\n\u001b[1;32m     43\u001b[0m     \u001b[39m# statistics\u001b[39;00m\n\u001b[1;32m     44\u001b[0m     running_loss \u001b[39m+\u001b[39m\u001b[39m=\u001b[39m loss\u001b[39m.\u001b[39mitem() \u001b[39m*\u001b[39m inputs\u001b[39m.\u001b[39msize(\u001b[39m0\u001b[39m)\n\u001b[0;32m---> 45\u001b[0m     running_corrects \u001b[39m+\u001b[39m\u001b[39m=\u001b[39m torch\u001b[39m.\u001b[39msum(preds \u001b[39m==\u001b[39;49m labels\u001b[39m.\u001b[39;49mdata)\n\u001b[1;32m     46\u001b[0m \u001b[39mif\u001b[39;00m phase \u001b[39m==\u001b[39m \u001b[39m'\u001b[39m\u001b[39mtrain\u001b[39m\u001b[39m'\u001b[39m:\n\u001b[1;32m     47\u001b[0m     scheduler\u001b[39m.\u001b[39mstep()\n",
      "\u001b[0;31mRuntimeError\u001b[0m: The size of tensor a (2) must match the size of tensor b (4) at non-singleton dimension 1"
     ]
    }
   ],
   "source": [
    "resnet = train_model(resnet, criterion, optimizer_ft, exp_lr_scheduler,\n",
    "                       num_epochs=25)"
   ]
  }
 ],
 "metadata": {
  "kernelspec": {
   "display_name": "advanced-ml",
   "language": "python",
   "name": "python3"
  },
  "language_info": {
   "codemirror_mode": {
    "name": "ipython",
    "version": 3
   },
   "file_extension": ".py",
   "mimetype": "text/x-python",
   "name": "python",
   "nbconvert_exporter": "python",
   "pygments_lexer": "ipython3",
   "version": "3.10.8"
  },
  "orig_nbformat": 4,
  "vscode": {
   "interpreter": {
    "hash": "59421fc0fc278b311740e29810f27153e3bcf536810bb32b3583fe97785d646f"
   }
  }
 },
 "nbformat": 4,
 "nbformat_minor": 2
}
