{
 "cells": [
  {
   "attachments": {},
   "cell_type": "markdown",
   "metadata": {},
   "source": [
    "# Classification\n",
    "In this notebook we classify the CT/PET scans of lung cancer cases by tumor type. \n",
    "We are doing this as a baseline task to validate our data loading pipeline.\n",
    "Most code is taken from [this tutorial](https://pytorch.org/tutorials/beginner/transfer_learning_tutorial.html)"
   ]
  },
  {
   "cell_type": "code",
   "execution_count": 1,
   "metadata": {},
   "outputs": [
    {
     "name": "stderr",
     "output_type": "stream",
     "text": [
      "/dhc/home/tobias.fiedler/conda3/envs/advancedML/lib/python3.10/site-packages/tqdm/auto.py:22: TqdmWarning: IProgress not found. Please update jupyter and ipywidgets. See https://ipywidgets.readthedocs.io/en/stable/user_install.html\n",
      "  from .autonotebook import tqdm as notebook_tqdm\n"
     ]
    },
    {
     "data": {
      "text/plain": [
       "'pynvml module not found, please install pynvml'"
      ]
     },
     "execution_count": 1,
     "metadata": {},
     "output_type": "execute_result"
    }
   ],
   "source": [
    "import torch\n",
    "import torch.nn as nn\n",
    "import torch.optim as optim\n",
    "from torch.optim import lr_scheduler\n",
    "import torch.backends.cudnn as cudnn\n",
    "from torch.utils.data import random_split\n",
    "import numpy as np\n",
    "import torchvision\n",
    "from torchvision import datasets, models, transforms\n",
    "import matplotlib.pyplot as plt\n",
    "import time\n",
    "import os\n",
    "import copy\n",
    "from nscl_dataset import NSCLDataSet\n",
    "\n",
    "cudnn.benchmark = True\n",
    "device = torch.device(\"cuda:0\" if torch.cuda.is_available() else \"cpu\")\n",
    "\n",
    "if torch.cuda.is_available():\n",
    "    torch.cuda.empty_cache() \n",
    "    \n",
    "cpu = torch.device(\"cpu\")\n",
    "\n",
    "torch.cuda.list_gpu_processes()"
   ]
  },
  {
   "cell_type": "code",
   "execution_count": 2,
   "metadata": {},
   "outputs": [],
   "source": [
    "ds = NSCLDataSet()"
   ]
  },
  {
   "cell_type": "code",
   "execution_count": 3,
   "metadata": {},
   "outputs": [
    {
     "data": {
      "text/plain": [
       "torch.Size([3, 512, 512])"
      ]
     },
     "execution_count": 3,
     "metadata": {},
     "output_type": "execute_result"
    }
   ],
   "source": [
    "next(iter(ds))[0].shape"
   ]
  },
  {
   "attachments": {},
   "cell_type": "markdown",
   "metadata": {},
   "source": [
    "# Defining datasets (train/validation) "
   ]
  },
  {
   "cell_type": "code",
   "execution_count": 4,
   "metadata": {},
   "outputs": [],
   "source": [
    "preprocess = transforms.Compose([\n",
    "    transforms.ToPILImage(),\n",
    "    transforms.Resize(32),\n",
    "    #transforms.CenterCrop(224),\n",
    "    transforms.ToTensor(),\n",
    "    transforms.Normalize(mean=[0.485, 0.456, 0.406], std=[0.229, 0.224, 0.225]),\n",
    "    #transforms.Grayscale(),\n",
    "])\n",
    "\n",
    "trainSet, valSet = random_split(NSCLDataSet(transform=preprocess), [0.8, 0.2])\n",
    "dataloaders = {\n",
    "    \"train\": torch.utils.data.DataLoader(trainSet, batch_size=32, shuffle=True, num_workers=4),\n",
    "    \"val\": torch.utils.data.DataLoader(valSet, batch_size=32, shuffle=True, num_workers=4)\n",
    "}\n",
    "\n",
    "class_names = [\"Adenocarcinoma\", \"Small Cell Carcinoma\", \"Large Cell Carcinoma\", \"Squamous Cell Carcinoma\"]\n",
    "num_classes = len(class_names)\n",
    "dataset_sizes = {\"train\": len(trainSet),\"val\": len(valSet)}"
   ]
  },
  {
   "attachments": {},
   "cell_type": "markdown",
   "metadata": {},
   "source": [
    "# Defining model "
   ]
  },
  {
   "cell_type": "code",
   "execution_count": 5,
   "metadata": {},
   "outputs": [
    {
     "data": {
      "text/plain": [
       "CapsNet(\n",
       "  (conv_layer): ConvLayer(\n",
       "    (conv): Conv2d(3, 256, kernel_size=(9, 9), stride=(1, 1))\n",
       "  )\n",
       "  (primary_capsules): PrimaryCaps(\n",
       "    (capsules): ModuleList(\n",
       "      (0): Conv2d(256, 32, kernel_size=(9, 9), stride=(2, 2))\n",
       "      (1): Conv2d(256, 32, kernel_size=(9, 9), stride=(2, 2))\n",
       "      (2): Conv2d(256, 32, kernel_size=(9, 9), stride=(2, 2))\n",
       "      (3): Conv2d(256, 32, kernel_size=(9, 9), stride=(2, 2))\n",
       "      (4): Conv2d(256, 32, kernel_size=(9, 9), stride=(2, 2))\n",
       "      (5): Conv2d(256, 32, kernel_size=(9, 9), stride=(2, 2))\n",
       "      (6): Conv2d(256, 32, kernel_size=(9, 9), stride=(2, 2))\n",
       "      (7): Conv2d(256, 32, kernel_size=(9, 9), stride=(2, 2))\n",
       "    )\n",
       "  )\n",
       "  (digit_capsules): DigitCaps()\n",
       "  (decoder): Decoder(\n",
       "    (reconstraction_layers): Sequential(\n",
       "      (0): Linear(in_features=64, out_features=512, bias=True)\n",
       "      (1): ReLU(inplace=True)\n",
       "      (2): Linear(in_features=512, out_features=1024, bias=True)\n",
       "      (3): ReLU(inplace=True)\n",
       "      (4): Linear(in_features=1024, out_features=3072, bias=True)\n",
       "      (5): Sigmoid()\n",
       "    )\n",
       "  )\n",
       "  (mse_loss): MSELoss()\n",
       ")"
      ]
     },
     "execution_count": 5,
     "metadata": {},
     "output_type": "execute_result"
    }
   ],
   "source": [
    "from capsule_net import CapsNet\n",
    "from capsnet_config import Config\n",
    "model = CapsNet(config = Config())\n",
    "\n",
    "\n",
    "model.to(device)"
   ]
  },
  {
   "attachments": {},
   "cell_type": "markdown",
   "metadata": {},
   "source": [
    "# Setup training"
   ]
  },
  {
   "cell_type": "code",
   "execution_count": 6,
   "metadata": {},
   "outputs": [],
   "source": [
    "import tqdm\n",
    "\n",
    "def predicted_indices_from_outputs(outputs):\n",
    "    classes = torch.sqrt((outputs ** 2).sum(2))\n",
    "    _, max_length_indices = classes.max(dim=1)\n",
    "    return torch.squeeze(max_length_indices)\n",
    "\n",
    "def train_model(model, criterion, optimizer, scheduler, num_epochs=25):\n",
    "    since = time.time()\n",
    "\n",
    "    best_model_wts = copy.deepcopy(model.state_dict())\n",
    "    best_acc = 0.0\n",
    "\n",
    "    for epoch in range(num_epochs):\n",
    "        print(f'Epoch {epoch}/{num_epochs - 1}')\n",
    "        print('-' * 10)\n",
    "\n",
    "        # Each epoch has a training and validation phase\n",
    "        for phase in ['train', 'val']:\n",
    "            if phase == 'train':\n",
    "                model.train()  # Set model to training mode\n",
    "            else:\n",
    "                model.eval()   # Set model to evaluate mode\n",
    "\n",
    "            running_loss = 0.0\n",
    "            running_corrects = 0\n",
    "\n",
    "            # Iterate over data.\n",
    "            for idx, (inputs, labels) in enumerate(dataloaders[phase]):\n",
    "                inputs = inputs.to(device)\n",
    "                labels = labels.to(device)\n",
    "\n",
    "                # zero the parameter gradients\n",
    "                optimizer.zero_grad()\n",
    "\n",
    "                # forward\n",
    "                # track history if only in train\n",
    "                with torch.set_grad_enabled(phase == 'train'):\n",
    "                    outputs, reconstructions, _ = model(inputs)\n",
    "                    preds = predicted_indices_from_outputs(outputs)\n",
    "                    loss = model.loss(inputs, outputs, labels, reconstructions)\n",
    "\n",
    "                    # backward + optimize only if in training phase\n",
    "                    if phase == 'train':\n",
    "                        loss.backward()\n",
    "                        optimizer.step()\n",
    "\n",
    "                # statistics\n",
    "                batch_loss = loss.item() * inputs.size(0)\n",
    "                running_loss += batch_loss\n",
    "                _, labels_index = torch.max(labels.data, 1)\n",
    "                batch_num_correct = torch.sum(preds ==labels_index)\n",
    "                running_corrects += batch_num_correct\n",
    "                if idx % 10 == 0:\n",
    "                    print(f\"Batch {idx}/{len(dataloaders[phase])}\")\n",
    "                    batch_size = inputs.size(0)\n",
    "                    tqdm.write(\"Epoch: [{}/{}], Batch: [{}/{}], train accuracy: {:.6f}, loss: {:.6f}\".format(\n",
    "                        epoch,\n",
    "                        num_epochs,\n",
    "                        idx + 1,\n",
    "                        len(dataloaders[phase]),\n",
    "                        batch_num_correct / float(batch_size),\n",
    "                        batch_loss / float(batch_size)\n",
    "                        ))\n",
    "                \n",
    "            if phase == 'train':\n",
    "                scheduler.step()\n",
    "\n",
    "            epoch_loss = running_loss / dataset_sizes[phase]\n",
    "            epoch_acc = running_corrects.double() / dataset_sizes[phase]\n",
    "\n",
    "            print(f'{phase} Loss: {epoch_loss:.4f} Acc: {epoch_acc:.4f}')\n",
    "\n",
    "            # deep copy the model\n",
    "            if phase == 'val' and epoch_acc > best_acc:\n",
    "                best_acc = epoch_acc\n",
    "                best_model_wts = copy.deepcopy(model.state_dict())\n",
    "\n",
    "        print()\n",
    "\n",
    "    time_elapsed = time.time() - since\n",
    "    print(f'Training complete in {time_elapsed // 60:.0f}m {time_elapsed % 60:.0f}s')\n",
    "    print(f'Best val Acc: {best_acc:4f}')\n",
    "\n",
    "    # load best model weights\n",
    "    model.load_state_dict(best_model_wts)\n",
    "    return model"
   ]
  },
  {
   "attachments": {},
   "cell_type": "markdown",
   "metadata": {},
   "source": [
    "# Define training parameters"
   ]
  },
  {
   "cell_type": "code",
   "execution_count": 7,
   "metadata": {},
   "outputs": [],
   "source": [
    "criterion = nn.CrossEntropyLoss()\n",
    "\n",
    "# Observe that all parameters are being optimized\n",
    "optimizer_ft = optim.SGD(model.parameters(), lr=0.001, momentum=0.9)\n",
    "\n",
    "# Decay LR by a factor of 0.1 every 7 epochs\n",
    "exp_lr_scheduler = lr_scheduler.StepLR(optimizer_ft, step_size=7, gamma=0.1)"
   ]
  },
  {
   "attachments": {},
   "cell_type": "markdown",
   "metadata": {},
   "source": [
    "# Run training"
   ]
  },
  {
   "cell_type": "code",
   "execution_count": 8,
   "metadata": {},
   "outputs": [
    {
     "name": "stdout",
     "output_type": "stream",
     "text": [
      "Epoch 0/5\n",
      "----------\n",
      "Batch 0/760\n",
      "Batch 200/760\n",
      "Batch 400/760\n",
      "Batch 600/760\n",
      "train Loss: 0.8670 Acc: 20.8250\n",
      "Batch 0/190\n",
      "val Loss: 0.8211 Acc: 21.0079\n",
      "\n",
      "Epoch 1/5\n",
      "----------\n",
      "Batch 0/760\n",
      "Batch 200/760\n",
      "Batch 400/760\n",
      "Batch 600/760\n",
      "train Loss: 0.7917 Acc: 20.9975\n",
      "Batch 0/190\n",
      "val Loss: 0.7655 Acc: 21.0072\n",
      "\n",
      "Epoch 2/5\n",
      "----------\n",
      "Batch 0/760\n",
      "Batch 200/760\n",
      "Batch 400/760\n",
      "Batch 600/760\n",
      "train Loss: 0.7463 Acc: 20.9947\n",
      "Batch 0/190\n",
      "val Loss: 0.7280 Acc: 21.0072\n",
      "\n",
      "Epoch 3/5\n",
      "----------\n",
      "Batch 0/760\n",
      "Batch 200/760\n",
      "Batch 400/760\n",
      "Batch 600/760\n",
      "train Loss: 0.7150 Acc: 20.9947\n",
      "Batch 0/190\n",
      "val Loss: 0.7025 Acc: 21.0079\n",
      "\n",
      "Epoch 4/5\n",
      "----------\n",
      "Batch 0/760\n",
      "Batch 200/760\n",
      "Batch 400/760\n",
      "Batch 600/760\n",
      "train Loss: 0.6931 Acc: 20.9941\n",
      "Batch 0/190\n",
      "val Loss: 0.6841 Acc: 21.0072\n",
      "\n",
      "Epoch 5/5\n",
      "----------\n",
      "Batch 0/760\n",
      "Batch 200/760\n",
      "Batch 400/760\n",
      "Batch 600/760\n",
      "train Loss: 0.6766 Acc: 20.9941\n",
      "Batch 0/190\n",
      "val Loss: 0.6690 Acc: 21.0092\n",
      "\n",
      "Training complete in 10m 47s\n",
      "Best val Acc: 21.009217\n"
     ]
    }
   ],
   "source": [
    "model = train_model(model, criterion, optimizer_ft, exp_lr_scheduler,\n",
    "                       num_epochs=6)"
   ]
  },
  {
   "cell_type": "code",
   "execution_count": 9,
   "metadata": {},
   "outputs": [
    {
     "name": "stdout",
     "output_type": "stream",
     "text": [
      "1 1384448.0\n",
      "2 692224.0\n",
      "4 346112.0\n",
      "8 173056.0\n",
      "13 106496.0\n",
      "16 86528.0\n",
      "26 53248.0\n",
      "32 43264.0\n",
      "52 26624.0\n",
      "64 21632.0\n",
      "104 13312.0\n",
      "128 10816.0\n",
      "169 8192.0\n",
      "208 6656.0\n",
      "256 5408.0\n",
      "338 4096.0\n",
      "416 3328.0\n",
      "512 2704.0\n",
      "676 2048.0\n",
      "832 1664.0\n",
      "1024 1352.0\n",
      "1352 1024.0\n",
      "1664 832.0\n",
      "2048 676.0\n",
      "2704 512.0\n",
      "3328 416.0\n",
      "4096 338.0\n",
      "5408 256.0\n",
      "6656 208.0\n",
      "8192 169.0\n",
      "10816 128.0\n",
      "13312 104.0\n",
      "21632 64.0\n",
      "26624 52.0\n",
      "43264 32.0\n",
      "53248 26.0\n",
      "86528 16.0\n"
     ]
    }
   ],
   "source": [
    "n= 88604672\n",
    "\n",
    "for i in range(1,100000):\n",
    "    r = ((n/32)/2)%i\n",
    "    t = ((n/32)/2)/i\n",
    "    if r==0:\n",
    "        print(i,t)"
   ]
  },
  {
   "attachments": {},
   "cell_type": "markdown",
   "metadata": {},
   "source": [
    "# Evaluation"
   ]
  },
  {
   "cell_type": "code",
   "execution_count": 17,
   "metadata": {},
   "outputs": [
    {
     "data": {
      "image/png": "[encoded data removed]",
      "text/plain": [
       "<Figure size 640x480 with 2 Axes>"
      ]
     },
     "metadata": {},
     "output_type": "display_data"
    },
    {
     "name": "stdout",
     "output_type": "stream",
     "text": [
      "F1-score: 0.7928876527267309\n"
     ]
    }
   ],
   "source": [
    "import matplotlib.pyplot as plt\n",
    "\n",
    "from sklearn.metrics import confusion_matrix, ConfusionMatrixDisplay, f1_score\n",
    "\n",
    "\n",
    "y_true = np.array([])\n",
    "y_pred = np.array([])\n",
    "with torch.no_grad():\n",
    "    for i, (inputs, classes) in enumerate(dataloaders['val']):\n",
    "        inputs = inputs.to(device)\n",
    "        classes = classes.to(device)\n",
    "        outputs, _, _ = model(inputs)\n",
    "        \n",
    "        \n",
    "        preds = predicted_indices_from_outputs(outputs).cpu()\n",
    "        _, labels = torch.max(classes.cpu(), 1)\n",
    "    \n",
    "        y_true = np.concatenate((y_true, preds))\n",
    "        y_pred = np.concatenate((y_pred, labels))\n",
    "        \n",
    "disp = ConfusionMatrixDisplay(confusion_matrix=confusion_matrix(y_true, y_pred), display_labels=class_names)\n",
    "disp.plot()\n",
    "plt.show()\n",
    "print(\"F1-score:\",f1_score(y_true, y_pred, average=\"weighted\") )"
   ]
  },
  {
   "attachments": {},
   "cell_type": "markdown",
   "metadata": {},
   "source": [
    "# Debugging"
   ]
  },
  {
   "cell_type": "code",
   "execution_count": null,
   "metadata": {},
   "outputs": [
    {
     "name": "stdout",
     "output_type": "stream",
     "text": [
      "Predictions tensor([2, 0, 1])\n",
      "Labels tensor([1., 0., 1.])\n",
      "Comparison tensor([False,  True,  True])\n",
      "Sum tensor(2)\n"
     ]
    }
   ],
   "source": [
    "import torch\n",
    "outputs = torch.Tensor([[0,0,1], [1,0,0], [0,1,0]])\n",
    "_, preds = torch.max(outputs, 1)\n",
    "labels = torch.Tensor([1, 0, 1])\n",
    "\n",
    "print(\"Predictions\", preds)\n",
    "print(\"Labels\", labels)\n",
    "\n",
    "comparison = preds == labels\n",
    "print(\"Comparison\", comparison)\n",
    "\n",
    "print(\"Sum\", torch.sum(preds == labels))"
   ]
  }
 ],
 "metadata": {
  "kernelspec": {
   "display_name": "advancedML",
   "language": "python",
   "name": "python3"
  },
  "language_info": {
   "codemirror_mode": {
    "name": "ipython",
    "version": 3
   },
   "file_extension": ".py",
   "mimetype": "text/x-python",
   "name": "python",
   "nbconvert_exporter": "python",
   "pygments_lexer": "ipython3",
   "version": "3.10.8"
  },
  "orig_nbformat": 4,
  "vscode": {
   "interpreter": {
    "hash": "a57beec5a0c311e218ab50e775b7d12354f4b47d934e9b54a4033ab633f61720"
   }
  }
 },
 "nbformat": 4,
 "nbformat_minor": 2
}
