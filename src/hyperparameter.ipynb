{
 "cells": [
  {
   "attachments": {},
   "cell_type": "markdown",
   "metadata": {},
   "source": [
    "# Classification\n",
    "In this notebook we classify the CT/PET scans of lung cancer cases by tumor type. \n",
    "We are doing this as a baseline task to validate our data loading pipeline.\n",
    "Most code is taken from [this tutorial](https://pytorch.org/tutorials/beginner/transfer_learning_tutorial.html)"
   ]
  },
  {
   "cell_type": "code",
   "execution_count": 1,
   "metadata": {},
   "outputs": [
    {
     "name": "stderr",
     "output_type": "stream",
     "text": [
      "/dhc/home/tobias.fiedler/conda3/envs/advancedML/lib/python3.10/site-packages/tqdm/auto.py:22: TqdmWarning: IProgress not found. Please update jupyter and ipywidgets. See https://ipywidgets.readthedocs.io/en/stable/user_install.html\n",
      "  from .autonotebook import tqdm as notebook_tqdm\n"
     ]
    },
    {
     "data": {
      "text/plain": [
       "'pynvml module not found, please install pynvml'"
      ]
     },
     "execution_count": 1,
     "metadata": {},
     "output_type": "execute_result"
    }
   ],
   "source": [
    "import torch\n",
    "import torch.nn as nn\n",
    "import torch.optim as optim\n",
    "from torch.optim import lr_scheduler\n",
    "import torch.backends.cudnn as cudnn\n",
    "from torch.utils.data import random_split\n",
    "import numpy as np\n",
    "import torchvision\n",
    "from torchvision import datasets, models, transforms\n",
    "import matplotlib.pyplot as plt\n",
    "import time\n",
    "import os\n",
    "import copy\n",
    "from lungpetctdx_dataset import LungPetCtDxDataset_TumorPresence\n",
    "from utils.wandb import start_wandb_run, wandb_watch, wandb_log\n",
    "from eval.reconstruction_viusalization import compare_images\n",
    "from utils.wandb import wandb_log, wandb\n",
    "\n",
    "cudnn.benchmark = True\n",
    "device = torch.device(\"cuda:0\" if torch.cuda.is_available() else \"cpu\")\n",
    "\n",
    "if torch.cuda.is_available():\n",
    "    torch.cuda.empty_cache() \n",
    "    \n",
    "cpu = torch.device(\"cpu\")\n",
    "\n",
    "torch.cuda.list_gpu_processes()\n"
   ]
  },
  {
   "attachments": {},
   "cell_type": "markdown",
   "metadata": {},
   "source": [
    "# Defining datasets (train/validation) "
   ]
  },
  {
   "cell_type": "code",
   "execution_count": 2,
   "metadata": {},
   "outputs": [
    {
     "name": "stdout",
     "output_type": "stream",
     "text": [
      "Only using 5 subjects\n"
     ]
    }
   ],
   "source": [
    "IMAGE_RESOLUTION = 128\n",
    "from lungpetctdx_dataset import LungPetCtDxDataset_TumorPresence\n",
    "from ct_dataset import NormalizationMethods\n",
    "postprocess = transforms.Compose([\n",
    "    transforms.Grayscale()\n",
    "])\n",
    "ds = LungPetCtDxDataset_TumorPresence(post_normalize_transform=postprocess,\n",
    "    normalize=NormalizationMethods.SINGLE_IMAGE, cache=True, subject_count=5) # TODO remove subject_count\n",
    "\n",
    "trainSet, valSet = ds.subject_split(0.2)#random_split(ds, [0.8, 0.2])\n",
    "dataloaders = {\n",
    "    \"val\": torch.utils.data.DataLoader(valSet, batch_size=64, shuffle=True, num_workers=4),\n",
    "    \"train\": torch.utils.data.DataLoader(trainSet, batch_size=64, shuffle=True, num_workers=4),\n",
    "}\n",
    "num_classes = len(ds.class_names)\n",
    "dataset_sizes = {\"train\": len(trainSet),\"val\": len(valSet)}\n",
    "# model = torch.load(\"test\")\n"
   ]
  },
  {
   "attachments": {},
   "cell_type": "markdown",
   "metadata": {},
   "source": [
    "# Defining model "
   ]
  },
  {
   "cell_type": "code",
   "execution_count": 3,
   "metadata": {},
   "outputs": [
    {
     "name": "stderr",
     "output_type": "stream",
     "text": [
      "Failed to detect the name of this notebook, you can set it manually with the WANDB_NOTEBOOK_NAME environment variable to enable code saving.\n"
     ]
    },
    {
     "name": "stdout",
     "output_type": "stream",
     "text": [
      "Create sweep with ID: 3ozjet9y\n",
      "Sweep URL: https://wandb.ai/7-vs-capsule/7-vs-capsule/sweeps/3ozjet9y\n"
     ]
    },
    {
     "name": "stderr",
     "output_type": "stream",
     "text": [
      "\u001b[34m\u001b[1mwandb\u001b[0m: Agent Starting Run: 3w09dkx1 with config:\n",
      "\u001b[34m\u001b[1mwandb\u001b[0m: \tlearning_rate: 0.07402716737229625\n",
      "\u001b[34m\u001b[1mwandb\u001b[0m: \tout_capsule_size: 64\n",
      "\u001b[34m\u001b[1mwandb\u001b[0m: \treconstruction_loss_factor: 0.10247376179596036\n",
      "Failed to detect the name of this notebook, you can set it manually with the WANDB_NOTEBOOK_NAME environment variable to enable code saving.\n",
      "\u001b[34m\u001b[1mwandb\u001b[0m: Currently logged in as: \u001b[33mtfiedlerdev\u001b[0m (\u001b[33m7-vs-capsule\u001b[0m). Use \u001b[1m`wandb login --relogin`\u001b[0m to force relogin\n"
     ]
    },
    {
     "data": {
      "text/html": [
       "wandb version 0.13.9 is available!  To upgrade, please run:\n",
       " $ pip install wandb --upgrade"
      ],
      "text/plain": [
       "<IPython.core.display.HTML object>"
      ]
     },
     "metadata": {},
     "output_type": "display_data"
    },
    {
     "data": {
      "text/html": [
       "Tracking run with wandb version 0.13.7"
      ],
      "text/plain": [
       "<IPython.core.display.HTML object>"
      ]
     },
     "metadata": {},
     "output_type": "display_data"
    },
    {
     "data": {
      "text/html": [
       "Run data is saved locally in <code>/dhc/home/tobias.fiedler/workspaces/7-vs-capsule/src/wandb/run-20230128_161627-3w09dkx1</code>"
      ],
      "text/plain": [
       "<IPython.core.display.HTML object>"
      ]
     },
     "metadata": {},
     "output_type": "display_data"
    },
    {
     "data": {
      "text/html": [
       "Syncing run <strong><a href=\"https://wandb.ai/7-vs-capsule/7-vs-capsule/runs/3w09dkx1\" target=\"_blank\">wobbly-sweep-1</a></strong> to <a href=\"https://wandb.ai/7-vs-capsule/7-vs-capsule\" target=\"_blank\">Weights & Biases</a> (<a href=\"https://wandb.me/run\" target=\"_blank\">docs</a>)<br/>Sweep page:  <a href=\"https://wandb.ai/7-vs-capsule/7-vs-capsule/sweeps/3ozjet9y\" target=\"_blank\">https://wandb.ai/7-vs-capsule/7-vs-capsule/sweeps/3ozjet9y</a>"
      ],
      "text/plain": [
       "<IPython.core.display.HTML object>"
      ]
     },
     "metadata": {},
     "output_type": "display_data"
    },
    {
     "name": "stdout",
     "output_type": "stream",
     "text": [
      "Epoch 1/1\n",
      "----------\n"
     ]
    },
    {
     "data": {
      "text/html": [
       "Waiting for W&B process to finish... <strong style=\"color:red\">(failed 1).</strong> Press Control-C to abort syncing."
      ],
      "text/plain": [
       "<IPython.core.display.HTML object>"
      ]
     },
     "metadata": {},
     "output_type": "display_data"
    },
    {
     "data": {
      "text/html": [
       "Synced <strong style=\"color:#cdcd00\">wobbly-sweep-1</strong>: <a href=\"https://wandb.ai/7-vs-capsule/7-vs-capsule/runs/3w09dkx1\" target=\"_blank\">https://wandb.ai/7-vs-capsule/7-vs-capsule/runs/3w09dkx1</a><br/>Synced 6 W&B file(s), 0 media file(s), 0 artifact file(s) and 0 other file(s)"
      ],
      "text/plain": [
       "<IPython.core.display.HTML object>"
      ]
     },
     "metadata": {},
     "output_type": "display_data"
    },
    {
     "data": {
      "text/html": [
       "Find logs at: <code>./wandb/run-20230128_161627-3w09dkx1/logs</code>"
      ],
      "text/plain": [
       "<IPython.core.display.HTML object>"
      ]
     },
     "metadata": {},
     "output_type": "display_data"
    },
    {
     "name": "stderr",
     "output_type": "stream",
     "text": [
      "Run 3w09dkx1 errored: OutOfMemoryError('CUDA out of memory. Tried to allocate 24.50 GiB (GPU 0; 39.45 GiB total capacity; 27.60 GiB already allocated; 9.62 GiB free; 28.37 GiB reserved in total by PyTorch) If reserved memory is >> allocated memory try setting max_split_size_mb to avoid fragmentation.  See documentation for Memory Management and PYTORCH_CUDA_ALLOC_CONF')\n",
      "\u001b[34m\u001b[1mwandb\u001b[0m: \u001b[32m\u001b[41mERROR\u001b[0m Run 3w09dkx1 errored: OutOfMemoryError('CUDA out of memory. Tried to allocate 24.50 GiB (GPU 0; 39.45 GiB total capacity; 27.60 GiB already allocated; 9.62 GiB free; 28.37 GiB reserved in total by PyTorch) If reserved memory is >> allocated memory try setting max_split_size_mb to avoid fragmentation.  See documentation for Memory Management and PYTORCH_CUDA_ALLOC_CONF')\n",
      "\u001b[34m\u001b[1mwandb\u001b[0m: Sweep Agent: Waiting for job.\n",
      "\u001b[34m\u001b[1mwandb\u001b[0m: Job received.\n",
      "\u001b[34m\u001b[1mwandb\u001b[0m: Agent Starting Run: w9wns7rg with config:\n",
      "\u001b[34m\u001b[1mwandb\u001b[0m: \tlearning_rate: 0.05805527057498624\n",
      "\u001b[34m\u001b[1mwandb\u001b[0m: \tout_capsule_size: 16\n",
      "\u001b[34m\u001b[1mwandb\u001b[0m: \treconstruction_loss_factor: 0.31094680742372516\n",
      "Failed to detect the name of this notebook, you can set it manually with the WANDB_NOTEBOOK_NAME environment variable to enable code saving.\n"
     ]
    },
    {
     "data": {
      "text/html": [
       "wandb version 0.13.9 is available!  To upgrade, please run:\n",
       " $ pip install wandb --upgrade"
      ],
      "text/plain": [
       "<IPython.core.display.HTML object>"
      ]
     },
     "metadata": {},
     "output_type": "display_data"
    },
    {
     "data": {
      "text/html": [
       "Tracking run with wandb version 0.13.7"
      ],
      "text/plain": [
       "<IPython.core.display.HTML object>"
      ]
     },
     "metadata": {},
     "output_type": "display_data"
    },
    {
     "data": {
      "text/html": [
       "Run data is saved locally in <code>/dhc/home/tobias.fiedler/workspaces/7-vs-capsule/src/wandb/run-20230128_161653-w9wns7rg</code>"
      ],
      "text/plain": [
       "<IPython.core.display.HTML object>"
      ]
     },
     "metadata": {},
     "output_type": "display_data"
    },
    {
     "data": {
      "text/html": [
       "Syncing run <strong><a href=\"https://wandb.ai/7-vs-capsule/7-vs-capsule/runs/w9wns7rg\" target=\"_blank\">prime-sweep-2</a></strong> to <a href=\"https://wandb.ai/7-vs-capsule/7-vs-capsule\" target=\"_blank\">Weights & Biases</a> (<a href=\"https://wandb.me/run\" target=\"_blank\">docs</a>)<br/>Sweep page:  <a href=\"https://wandb.ai/7-vs-capsule/7-vs-capsule/sweeps/3ozjet9y\" target=\"_blank\">https://wandb.ai/7-vs-capsule/7-vs-capsule/sweeps/3ozjet9y</a>"
      ],
      "text/plain": [
       "<IPython.core.display.HTML object>"
      ]
     },
     "metadata": {},
     "output_type": "display_data"
    },
    {
     "name": "stdout",
     "output_type": "stream",
     "text": [
      "Epoch 1/1\n",
      "----------\n"
     ]
    },
    {
     "data": {
      "text/html": [
       "Waiting for W&B process to finish... <strong style=\"color:red\">(failed 1).</strong> Press Control-C to abort syncing."
      ],
      "text/plain": [
       "<IPython.core.display.HTML object>"
      ]
     },
     "metadata": {},
     "output_type": "display_data"
    },
    {
     "data": {
      "text/html": [
       "Synced <strong style=\"color:#cdcd00\">prime-sweep-2</strong>: <a href=\"https://wandb.ai/7-vs-capsule/7-vs-capsule/runs/w9wns7rg\" target=\"_blank\">https://wandb.ai/7-vs-capsule/7-vs-capsule/runs/w9wns7rg</a><br/>Synced 6 W&B file(s), 0 media file(s), 0 artifact file(s) and 0 other file(s)"
      ],
      "text/plain": [
       "<IPython.core.display.HTML object>"
      ]
     },
     "metadata": {},
     "output_type": "display_data"
    },
    {
     "data": {
      "text/html": [
       "Find logs at: <code>./wandb/run-20230128_161653-w9wns7rg/logs</code>"
      ],
      "text/plain": [
       "<IPython.core.display.HTML object>"
      ]
     },
     "metadata": {},
     "output_type": "display_data"
    },
    {
     "name": "stderr",
     "output_type": "stream",
     "text": [
      "Run w9wns7rg errored: OutOfMemoryError('CUDA out of memory. Tried to allocate 6.12 GiB (GPU 0; 39.45 GiB total capacity; 35.76 GiB already allocated; 1.74 GiB free; 36.25 GiB reserved in total by PyTorch) If reserved memory is >> allocated memory try setting max_split_size_mb to avoid fragmentation.  See documentation for Memory Management and PYTORCH_CUDA_ALLOC_CONF')\n",
      "\u001b[34m\u001b[1mwandb\u001b[0m: \u001b[32m\u001b[41mERROR\u001b[0m Run w9wns7rg errored: OutOfMemoryError('CUDA out of memory. Tried to allocate 6.12 GiB (GPU 0; 39.45 GiB total capacity; 35.76 GiB already allocated; 1.74 GiB free; 36.25 GiB reserved in total by PyTorch) If reserved memory is >> allocated memory try setting max_split_size_mb to avoid fragmentation.  See documentation for Memory Management and PYTORCH_CUDA_ALLOC_CONF')\n",
      "\u001b[34m\u001b[1mwandb\u001b[0m: Sweep Agent: Waiting for job.\n",
      "\u001b[34m\u001b[1mwandb\u001b[0m: Job received.\n",
      "\u001b[34m\u001b[1mwandb\u001b[0m: Agent Starting Run: syrpjd9k with config:\n",
      "\u001b[34m\u001b[1mwandb\u001b[0m: \tlearning_rate: 0.06242864490356478\n",
      "\u001b[34m\u001b[1mwandb\u001b[0m: \tout_capsule_size: 16\n",
      "\u001b[34m\u001b[1mwandb\u001b[0m: \treconstruction_loss_factor: 0.25042624135766167\n",
      "Failed to detect the name of this notebook, you can set it manually with the WANDB_NOTEBOOK_NAME environment variable to enable code saving.\n"
     ]
    },
    {
     "data": {
      "text/html": [
       "wandb version 0.13.9 is available!  To upgrade, please run:\n",
       " $ pip install wandb --upgrade"
      ],
      "text/plain": [
       "<IPython.core.display.HTML object>"
      ]
     },
     "metadata": {},
     "output_type": "display_data"
    },
    {
     "data": {
      "text/html": [
       "Tracking run with wandb version 0.13.7"
      ],
      "text/plain": [
       "<IPython.core.display.HTML object>"
      ]
     },
     "metadata": {},
     "output_type": "display_data"
    },
    {
     "data": {
      "text/html": [
       "Run data is saved locally in <code>/dhc/home/tobias.fiedler/workspaces/7-vs-capsule/src/wandb/run-20230128_161714-syrpjd9k</code>"
      ],
      "text/plain": [
       "<IPython.core.display.HTML object>"
      ]
     },
     "metadata": {},
     "output_type": "display_data"
    },
    {
     "data": {
      "text/html": [
       "Syncing run <strong><a href=\"https://wandb.ai/7-vs-capsule/7-vs-capsule/runs/syrpjd9k\" target=\"_blank\">warm-sweep-3</a></strong> to <a href=\"https://wandb.ai/7-vs-capsule/7-vs-capsule\" target=\"_blank\">Weights & Biases</a> (<a href=\"https://wandb.me/run\" target=\"_blank\">docs</a>)<br/>Sweep page:  <a href=\"https://wandb.ai/7-vs-capsule/7-vs-capsule/sweeps/3ozjet9y\" target=\"_blank\">https://wandb.ai/7-vs-capsule/7-vs-capsule/sweeps/3ozjet9y</a>"
      ],
      "text/plain": [
       "<IPython.core.display.HTML object>"
      ]
     },
     "metadata": {},
     "output_type": "display_data"
    },
    {
     "name": "stdout",
     "output_type": "stream",
     "text": [
      "Epoch 1/1\n",
      "----------\n"
     ]
    },
    {
     "data": {
      "text/html": [
       "Waiting for W&B process to finish... <strong style=\"color:red\">(failed 1).</strong> Press Control-C to abort syncing."
      ],
      "text/plain": [
       "<IPython.core.display.HTML object>"
      ]
     },
     "metadata": {},
     "output_type": "display_data"
    },
    {
     "data": {
      "text/html": [
       "Synced <strong style=\"color:#cdcd00\">warm-sweep-3</strong>: <a href=\"https://wandb.ai/7-vs-capsule/7-vs-capsule/runs/syrpjd9k\" target=\"_blank\">https://wandb.ai/7-vs-capsule/7-vs-capsule/runs/syrpjd9k</a><br/>Synced 6 W&B file(s), 0 media file(s), 0 artifact file(s) and 0 other file(s)"
      ],
      "text/plain": [
       "<IPython.core.display.HTML object>"
      ]
     },
     "metadata": {},
     "output_type": "display_data"
    },
    {
     "data": {
      "text/html": [
       "Find logs at: <code>./wandb/run-20230128_161714-syrpjd9k/logs</code>"
      ],
      "text/plain": [
       "<IPython.core.display.HTML object>"
      ]
     },
     "metadata": {},
     "output_type": "display_data"
    },
    {
     "name": "stderr",
     "output_type": "stream",
     "text": [
      "Run syrpjd9k errored: OutOfMemoryError('CUDA out of memory. Tried to allocate 900.00 MiB (GPU 0; 39.45 GiB total capacity; 36.60 GiB already allocated; 877.75 MiB free; 37.13 GiB reserved in total by PyTorch) If reserved memory is >> allocated memory try setting max_split_size_mb to avoid fragmentation.  See documentation for Memory Management and PYTORCH_CUDA_ALLOC_CONF')\n",
      "\u001b[34m\u001b[1mwandb\u001b[0m: \u001b[32m\u001b[41mERROR\u001b[0m Run syrpjd9k errored: OutOfMemoryError('CUDA out of memory. Tried to allocate 900.00 MiB (GPU 0; 39.45 GiB total capacity; 36.60 GiB already allocated; 877.75 MiB free; 37.13 GiB reserved in total by PyTorch) If reserved memory is >> allocated memory try setting max_split_size_mb to avoid fragmentation.  See documentation for Memory Management and PYTORCH_CUDA_ALLOC_CONF')\n",
      "Detected 3 failed runs in the first 60 seconds, killing sweep.\n",
      "\u001b[34m\u001b[1mwandb\u001b[0m: \u001b[32m\u001b[41mERROR\u001b[0m Detected 3 failed runs in the first 60 seconds, killing sweep.\n",
      "\u001b[34m\u001b[1mwandb\u001b[0m: To disable this check set WANDB_AGENT_DISABLE_FLAPPING=true\n"
     ]
    }
   ],
   "source": [
    "from capsule_net import CapsNet\n",
    "from capsnet_config import Config\n",
    "from train import train_model, plot_train_losses, predicted_indices_from_outputs\n",
    "\n",
    "\n",
    "def run_train_experiment(config: dict = None):\n",
    "    with wandb.init(config=config):\n",
    "        torch.cuda.empty_cache()\n",
    "        config = wandb.config\n",
    "        capsConfig = Config(\n",
    "            cnn_in_channels=1,\n",
    "            input_width=IMAGE_RESOLUTION,\n",
    "            input_height=IMAGE_RESOLUTION,\n",
    "            dc_in_channels=392,\n",
    "            reconstruction_loss_factor=config.reconstruction_loss_factor,\n",
    "            dc_num_capsules=num_classes,\n",
    "            out_capsule_size=config.out_capsule_size,\n",
    "            # Num labelled 0 tensor(5682)\n",
    "            # Num labelled 1 tensor(47677)\n",
    "            class_weights=torch.tensor([1.0, 5682 / 47677.0]).to(device),\n",
    "        )\n",
    "\n",
    "        model = CapsNet(capsConfig)\n",
    "\n",
    "        wandb_watch(model)\n",
    "        model.to(device)\n",
    "        # Observe that all parameters are being optimized\n",
    "        optimizer_ft = optim.Adam(model.parameters(), lr=config.learning_rate)\n",
    "\n",
    "        # Decay LR by a factor of 0.1 every 7 epochs\n",
    "        exp_lr_scheduler = lr_scheduler.StepLR(optimizer_ft, step_size=7, gamma=0.1)\n",
    "\n",
    "        (\n",
    "            model,\n",
    "            best_acc,\n",
    "            best_loss,\n",
    "            train_losses,\n",
    "            best_acc_y_true,\n",
    "            best_acc_y_pred,\n",
    "        ) = train_model(\n",
    "            model,\n",
    "            exp_lr_scheduler,\n",
    "            dataloaders[\"train\"],\n",
    "            dataloaders[\"val\"],\n",
    "            num_epochs=1,\n",
    "            on_epoch_done=lambda epoch_result: wandb_log(epoch_result),\n",
    "            on_batch_done=lambda batch_result: wandb_log(batch_result),\n",
    "        )\n",
    "\n",
    "        if best_acc_y_pred is not None and best_acc_y_true is not None:\n",
    "            wandb.log(\n",
    "                {\n",
    "                    \"confusion_matrix\": wandb.plot.confusion_matrix(\n",
    "                        preds=best_acc_y_pred.tolist(),\n",
    "                        y_true=best_acc_y_true.tolist(),\n",
    "                        class_names=ds.class_names,\n",
    "                    )\n",
    "                }\n",
    "            )\n",
    "        del model\n",
    "        return best_acc\n",
    "\n",
    "\n",
    "sweep_config = {\n",
    "    \"method\": \"bayes\",\n",
    "    \"metric\": {\"name\": \"accuracy\", \"goal\": \"maximize\"},\n",
    "    \"parameters\": {\n",
    "        \"reconstruction_loss_factor\": {\"distribution\": \"uniform\", \"min\": 0, \"max\": 0.4},\n",
    "        \"out_capsule_size\": {\"values\": [16, 32, 64]},\n",
    "        \"learning_rate\": {\"distribution\": \"uniform\", \"min\": 0.0001, \"max\": 0.1},\n",
    "    },\n",
    "}\n",
    "sweep_id = wandb.sweep(sweep_config, project=\"7-vs-capsule\")\n",
    "wandb.agent(sweep_id, run_train_experiment, count=5)\n"
   ]
  }
 ],
 "metadata": {
  "kernelspec": {
   "display_name": "advancedML",
   "language": "python",
   "name": "python3"
  },
  "language_info": {
   "codemirror_mode": {
    "name": "ipython",
    "version": 3
   },
   "file_extension": ".py",
   "mimetype": "text/x-python",
   "name": "python",
   "nbconvert_exporter": "python",
   "pygments_lexer": "ipython3",
   "version": "3.10.8"
  },
  "orig_nbformat": 4,
  "vscode": {
   "interpreter": {
    "hash": "a57beec5a0c311e218ab50e775b7d12354f4b47d934e9b54a4033ab633f61720"
   }
  }
 },
 "nbformat": 4,
 "nbformat_minor": 2
}
