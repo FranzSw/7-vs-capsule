{
 "cells": [
  {
   "attachments": {},
   "cell_type": "markdown",
   "metadata": {},
   "source": [
    "# Classification\n",
    "In this notebook we classify the CT/PET scans of lung cancer cases by tumor type. \n",
    "We are doing this as a baseline task to validate our data loading pipeline.\n",
    "Most code is taken from [this tutorial](https://pytorch.org/tutorials/beginner/transfer_learning_tutorial.html)"
   ]
  },
  {
   "cell_type": "code",
   "execution_count": null,
   "metadata": {},
   "outputs": [],
   "source": [
    "import torch\n",
    "import torch.nn as nn\n",
    "import torch.optim as optim\n",
    "from torch.optim import lr_scheduler\n",
    "import torch.backends.cudnn as cudnn\n",
    "from torch.utils.data import random_split\n",
    "import numpy as np\n",
    "import torchvision\n",
    "from torchvision import datasets, models, transforms\n",
    "import matplotlib.pyplot as plt\n",
    "import time\n",
    "import os\n",
    "import copy\n",
    "from lungpetctdx_dataset import LungPetCtDxDataset_TumorPresence\n",
    "from utils.wandb import start_wandb_run, wandb_watch, wandb_log\n",
    "from eval.reconstruction_viusalization import compare_images\n",
    "from utils.wandb import wandb_log, wandb\n",
    "\n",
    "cudnn.benchmark = True\n",
    "device = torch.device(\"cuda:0\" if torch.cuda.is_available() else \"cpu\")\n",
    "\n",
    "if torch.cuda.is_available():\n",
    "    torch.cuda.empty_cache() \n",
    "    \n",
    "cpu = torch.device(\"cpu\")\n",
    "\n",
    "torch.cuda.list_gpu_processes()\n"
   ]
  },
  {
   "attachments": {},
   "cell_type": "markdown",
   "metadata": {},
   "source": [
    "# Defining datasets (train/validation) "
   ]
  },
  {
   "cell_type": "code",
   "execution_count": null,
   "metadata": {},
   "outputs": [],
   "source": [
    "IMAGE_RESOLUTION = 128\n",
    "from lungpetctdx_dataset import LungPetCtDxDataset_TumorPresence\n",
    "from ct_dataset import NormalizationMethods\n",
    "postprocess = transforms.Compose([\n",
    "    transforms.Grayscale()\n",
    "])\n",
    "ds = LungPetCtDxDataset_TumorPresence(post_normalize_transform=postprocess,\n",
    "    normalize=NormalizationMethods.SINGLE_IMAGE, cache=True)\n",
    "\n",
    "trainSet, valSet = ds.subject_split(0.2)#random_split(ds, [0.8, 0.2])\n",
    "dataloaders = {\n",
    "    \"val\": torch.utils.data.DataLoader(valSet, batch_size=128, shuffle=True, num_workers=8),\n",
    "    \"train\": torch.utils.data.DataLoader(trainSet, batch_size=128, shuffle=True, num_workers=8),\n",
    "}\n",
    "num_classes = len(ds.class_names)\n",
    "dataset_sizes = {\"train\": len(trainSet),\"val\": len(valSet)}\n",
    "# model = torch.load(\"test\")\n"
   ]
  },
  {
   "attachments": {},
   "cell_type": "markdown",
   "metadata": {},
   "source": [
    "# Defining model "
   ]
  },
  {
   "cell_type": "code",
   "execution_count": null,
   "metadata": {},
   "outputs": [],
   "source": [
    "from capsule_net import CapsNet\n",
    "from capsnet_config import Config\n",
    "from train import train_model, plot_train_losses, predicted_indices_from_outputs\n",
    "\n",
    "\n",
    "def run_train_experiment(config: dict = None):\n",
    "    assert config!=None\n",
    "    with wandb.init(config=config):\n",
    "        capsConfig = Config(\n",
    "            cnn_in_channels=1,\n",
    "            input_width=IMAGE_RESOLUTION,\n",
    "            input_height=IMAGE_RESOLUTION,\n",
    "            dc_in_channels=392,\n",
    "            reconstruction_loss_factor=config.reconstruction_loss_factor,\n",
    "            dc_num_capsules=num_classes,\n",
    "            out_capsule_size=config.out_capsule_size,\n",
    "            # Num labelled 0 tensor(5682)\n",
    "            # Num labelled 1 tensor(47677)\n",
    "            class_weights=torch.tensor([1.0, 5682 / 47677.0]).to(device),\n",
    "        )\n",
    "\n",
    "        model = CapsNet(capsConfig)\n",
    "\n",
    "        wandb_watch(model)\n",
    "        model.to(device)\n",
    "        # Observe that all parameters are being optimized\n",
    "        optimizer_ft = optim.Adam(model.parameters(), lr=config.learning_rate)\n",
    "\n",
    "        # Decay LR by a factor of 0.1 every 7 epochs\n",
    "        exp_lr_scheduler = lr_scheduler.StepLR(optimizer_ft, step_size=7, gamma=0.1)\n",
    "\n",
    "        (\n",
    "            model,\n",
    "            best_acc,\n",
    "            best_loss,\n",
    "            train_losses,\n",
    "            best_acc_y_true,\n",
    "            best_acc_y_pred,\n",
    "        ) = train_model(\n",
    "            model,\n",
    "            exp_lr_scheduler,\n",
    "            dataloaders[\"train\"],\n",
    "            dataloaders[\"val\"],\n",
    "            num_epochs=1,\n",
    "            on_epoch_done=lambda epoch_result: wandb_log(epoch_result),\n",
    "            on_batch_done=lambda batch_result: wandb_log(batch_result),\n",
    "        )\n",
    "\n",
    "        if best_acc_y_pred != None and best_acc_y_true != None:\n",
    "            wandb.log(\n",
    "                {\n",
    "                    \"confusion_matrix\": wandb.plot.confusion_matrix(\n",
    "                        preds=best_acc_y_pred.tolist(),\n",
    "                        y_true=best_acc_y_true.tolist(),\n",
    "                        class_names=ds.class_names,\n",
    "                    )\n",
    "                }\n",
    "            )\n",
    "\n",
    "        return best_acc\n",
    "\n",
    "\n",
    "sweep_config = {\n",
    "    \"method\": \"bayes\",\n",
    "    \"metric\": {\"name\": \"accuracy\", \"goal\": \"maximize\"},\n",
    "    \"parameters\": {\n",
    "        \"reconstruction_loss_factor\": {\"distribution\": \"uniform\", \"min\": 0, \"max\": 0.4},\n",
    "        \"out_capsule_size\": {\"values\": [16, 32, 64]},\n",
    "        \"learning_rate\": {\"distribution\": \"uniform\", \"min\": 0.0001, \"max\": 0.1},\n",
    "    },\n",
    "}\n",
    "sweep_id = wandb.sweep(sweep_config, project=\"7-vs-capsule\")\n",
    "wandb.agent(sweep_id, run_train_experiment, count=5)\n"
   ]
  }
 ],
 "metadata": {
  "kernelspec": {
   "display_name": "advancedML",
   "language": "python",
   "name": "python3"
  },
  "language_info": {
   "name": "python",
   "version": "3.10.8 (main, Nov 24 2022, 14:13:03) [GCC 11.2.0]"
  },
  "orig_nbformat": 4,
  "vscode": {
   "interpreter": {
    "hash": "a57beec5a0c311e218ab50e775b7d12354f4b47d934e9b54a4033ab633f61720"
   }
  }
 },
 "nbformat": 4,
 "nbformat_minor": 2
}
